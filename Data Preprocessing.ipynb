{
 "cells": [
  {
   "cell_type": "markdown",
   "id": "6eed3791",
   "metadata": {},
   "source": [
    "## <u> Amazon Product Review Analysis </u>"
   ]
  },
  {
   "cell_type": "markdown",
   "id": "9706a2fb",
   "metadata": {},
   "source": [
    "##### Objective -> Data Preparation \n",
    "##### Datasets used -> Tools-Home Improvement and Patio-Lawn-Garden "
   ]
  },
  {
   "cell_type": "code",
   "execution_count": 2,
   "id": "692a7b64",
   "metadata": {},
   "outputs": [],
   "source": [
    "#importing libraries \n",
    "import numpy as np\n",
    "import warnings\n",
    "warnings.filterwarnings(\"ignore\")\n",
    "\n",
    "import json\n",
    "import pandas as pd\n",
    "import gzip\n",
    "\n",
    "#functions for loading json file \n",
    "def parse(path):\n",
    "    g = gzip.open(path, 'rb')\n",
    "    for l in g:\n",
    "        yield json.loads(l)\n",
    "\n",
    "def getDF(path):\n",
    "    i = 0\n",
    "    df = {}\n",
    "    for d in parse(path):\n",
    "        df[i] = d\n",
    "        i += 1\n",
    "    return pd.DataFrame.from_dict(df, orient='index')"
   ]
  },
  {
   "cell_type": "markdown",
   "id": "a69c953f",
   "metadata": {},
   "source": [
    "## <u> Data Importing</u> "
   ]
  },
  {
   "cell_type": "markdown",
   "id": "ace95cc8",
   "metadata": {},
   "source": [
    "#### Review files :"
   ]
  },
  {
   "cell_type": "code",
   "execution_count": 141,
   "id": "3cf7f265",
   "metadata": {},
   "outputs": [
    {
     "name": "stdout",
     "output_type": "stream",
     "text": [
      "(798415, 12)\n"
     ]
    }
   ],
   "source": [
    "# Review file Patio-Lawn-Garden\n",
    "Patio_Lawn_and_Garden_5= getDF(\"C:\\capstone\\Patio_Lawn_and_Garden_5.json.gz\")\n",
    "print(Patio_Lawn_and_Garden_5.shape)                     #checking the shape"
   ]
  },
  {
   "cell_type": "code",
   "execution_count": 142,
   "id": "782f0ed1",
   "metadata": {},
   "outputs": [
    {
     "name": "stdout",
     "output_type": "stream",
     "text": [
      "(2070831, 12)\n"
     ]
    }
   ],
   "source": [
    "# Review file Tools and Home Improvement\n",
    "Tools_and_Home_Improvement_5= getDF(\"C:\\capstone\\Tools_and_Home_Improvement_5.json.gz\") \n",
    "print(Tools_and_Home_Improvement_5.shape)                 #checking the shape"
   ]
  },
  {
   "cell_type": "markdown",
   "id": "0f160c3e",
   "metadata": {},
   "source": [
    "#### Rating files : "
   ]
  },
  {
   "cell_type": "code",
   "execution_count": 62,
   "id": "6eff6ffb",
   "metadata": {},
   "outputs": [],
   "source": [
    "# Rating file Patio-Lawn-Garden\n",
    "Patio_Lawn_and_Garden_rating=pd.read_csv(\"C:\\capstone\\csv files\\Patio_Lawn_and_Garden.csv\",header=None)     \n",
    "Patio_Lawn_and_Garden_rating.columns=['asin','reviewerID','overall','unixReviewTime']   #accessing required columns\n",
    "\n",
    "# Rating file Tools and Home Improvement\n",
    "Tools_and_Home_Improvement_rating=pd.read_csv(\"C:\\capstone\\csv files\\Tools_and_Home_Improvement.csv\",header=None)\n",
    "Tools_and_Home_Improvement_rating.columns=['asin','reviewerID','overall','unixReviewTime']    #accessing required columns"
   ]
  },
  {
   "cell_type": "markdown",
   "id": "aefc1222",
   "metadata": {},
   "source": [
    "##### Processing unixReviewTime"
   ]
  },
  {
   "cell_type": "code",
   "execution_count": 63,
   "id": "cd355fab",
   "metadata": {},
   "outputs": [],
   "source": [
    "import datetime\n",
    "Tools_and_Home_Improvement_rating['review_date']=int()\n",
    "Patio_Lawn_and_Garden_rating['review_date']=int()\n",
    "\n",
    "#function for unixReviewTime conversion \n",
    "def date_convertor(x):\n",
    "    value = datetime.datetime.fromtimestamp(x)\n",
    "    return(f\"{value:%Y-%m-%d}\")\n",
    "\n",
    "#converting unixReviewTime in both rating files\n",
    "Patio_Lawn_and_Garden_rating['review_date']=Patio_Lawn_and_Garden_rating['unixReviewTime'].apply(lambda x :date_convertor(x))\n",
    "Tools_and_Home_Improvement_rating['review_date']=Tools_and_Home_Improvement_rating['unixReviewTime'].apply(lambda x :date_convertor(x))"
   ]
  },
  {
   "cell_type": "code",
   "execution_count": 174,
   "id": "4705aa2a",
   "metadata": {},
   "outputs": [],
   "source": [
    "# Downloading files to csv format\n",
    "Tools_and_Home_Improvement_rating.to_csv('Tools_and_Home_Improvement_rating.csv',index=False)\n",
    "Patio_Lawn_and_Garden_rating.to_csv('Patio_Lawn_and_Garden_rating.csv',index=False)"
   ]
  },
  {
   "cell_type": "markdown",
   "id": "c7f921b6",
   "metadata": {},
   "source": [
    "#### Meta data files :"
   ]
  },
  {
   "cell_type": "code",
   "execution_count": 25,
   "id": "cf10b2fe",
   "metadata": {},
   "outputs": [],
   "source": [
    "# importing meta data  \n",
    "# meta data reading (used virtual machine (AWS)) after extracting to gz file format to json format and then converting it into csv format\n",
    "\n",
    "meta_garden= getDF(\"C:/capstone/meta data/meta_Patio_Lawn_and_Garden.json.gz\") \n",
    "meta_data_tools=pd.read_csv('tools_meta_all_data.csv')    #converting to csv "
   ]
  },
  {
   "cell_type": "markdown",
   "id": "b4e3f267",
   "metadata": {},
   "source": [
    "### <u>Understanding Data</u> (Review & Rating) "
   ]
  },
  {
   "cell_type": "code",
   "execution_count": 78,
   "id": "2e09133d",
   "metadata": {},
   "outputs": [
    {
     "name": "stdout",
     "output_type": "stream",
     "text": [
      "--------------------------------\n",
      "Data set name = Patio_Lawn_and_Garden_review\n",
      "--------------------------------\n",
      "Data set shape = (798415, 9)\n",
      "--------------------------------\n",
      "Data set datatype=\n",
      " overall           float64\n",
      "verified             bool\n",
      "reviewTime         object\n",
      "reviewerID         object\n",
      "asin               object\n",
      "reviewerName       object\n",
      "reviewText         object\n",
      "summary            object\n",
      "unixReviewTime      int64\n",
      "dtype: object\n",
      "--------------------------------\n",
      "Missing value checking for Patio_Lawn_and_Garden_review dataset\n",
      "overall             0\n",
      "verified            0\n",
      "reviewTime          0\n",
      "reviewerID          0\n",
      "asin                0\n",
      "reviewerName       27\n",
      "reviewText        186\n",
      "summary           156\n",
      "unixReviewTime      0\n",
      "dtype: int64\n",
      "-------------------------------------------\n",
      "Percentage of missing values in dataframe\n",
      "columns with of missing values between 0 to 30%\n",
      "reviewerName    0.003382\n",
      "reviewText      0.023296\n",
      "summary         0.019539\n",
      "dtype: float64\n",
      "--------------------------------------------\n",
      "columns with more than 30% of missing values\n",
      "Series([], dtype: float64)\n",
      "****************************************************************************************************\n",
      "--------------------------------\n",
      "Data set name = Tools_and_Home_Improvement_review\n",
      "--------------------------------\n",
      "Data set shape = (2070831, 9)\n",
      "--------------------------------\n",
      "Data set datatype=\n",
      " overall           float64\n",
      "verified             bool\n",
      "reviewTime         object\n",
      "reviewerID         object\n",
      "asin               object\n",
      "reviewerName       object\n",
      "reviewText         object\n",
      "summary            object\n",
      "unixReviewTime      int64\n",
      "dtype: object\n",
      "--------------------------------\n",
      "Missing value checking for Tools_and_Home_Improvement_review dataset\n",
      "overall             0\n",
      "verified            0\n",
      "reviewTime          0\n",
      "reviewerID          0\n",
      "asin                0\n",
      "reviewerName      149\n",
      "reviewText        522\n",
      "summary           279\n",
      "unixReviewTime      0\n",
      "dtype: int64\n",
      "-------------------------------------------\n",
      "Percentage of missing values in dataframe\n",
      "columns with of missing values between 0 to 30%\n",
      "reviewerName    0.007195\n",
      "reviewText      0.025207\n",
      "summary         0.013473\n",
      "dtype: float64\n",
      "--------------------------------------------\n",
      "columns with more than 30% of missing values\n",
      "Series([], dtype: float64)\n",
      "****************************************************************************************************\n",
      "--------------------------------\n",
      "Data set name = Patio_Lawn_and_Garden_rating\n",
      "--------------------------------\n",
      "Data set shape = (5236058, 5)\n",
      "--------------------------------\n",
      "Data set datatype=\n",
      " asin               object\n",
      "reviewerID         object\n",
      "overall           float64\n",
      "unixReviewTime      int64\n",
      "review_date        object\n",
      "dtype: object\n",
      "--------------------------------\n",
      "Missing value checking for Patio_Lawn_and_Garden_rating dataset\n",
      "asin              0\n",
      "reviewerID        0\n",
      "overall           0\n",
      "unixReviewTime    0\n",
      "review_date       0\n",
      "dtype: int64\n",
      "-------------------------------------------\n",
      "Percentage of missing values in dataframe\n",
      "columns with of missing values between 0 to 30%\n",
      "Series([], dtype: float64)\n",
      "--------------------------------------------\n",
      "columns with more than 30% of missing values\n",
      "Series([], dtype: float64)\n",
      "****************************************************************************************************\n",
      "--------------------------------\n",
      "Data set name = Tools_and_Home_Improvement_rating\n",
      "--------------------------------\n",
      "Data set shape = (9015203, 5)\n",
      "--------------------------------\n",
      "Data set datatype=\n",
      " asin               object\n",
      "reviewerID         object\n",
      "overall           float64\n",
      "unixReviewTime      int64\n",
      "review_date        object\n",
      "dtype: object\n",
      "--------------------------------\n",
      "Missing value checking for Tools_and_Home_Improvement_rating dataset\n",
      "asin              0\n",
      "reviewerID        0\n",
      "overall           0\n",
      "unixReviewTime    0\n",
      "review_date       0\n",
      "dtype: int64\n",
      "-------------------------------------------\n",
      "Percentage of missing values in dataframe\n",
      "columns with of missing values between 0 to 30%\n",
      "Series([], dtype: float64)\n",
      "--------------------------------------------\n",
      "columns with more than 30% of missing values\n",
      "Series([], dtype: float64)\n",
      "****************************************************************************************************\n"
     ]
    }
   ],
   "source": [
    "list_to_review=[Patio_Lawn_and_Garden_5,Tools_and_Home_Improvement_5,Patio_Lawn_and_Garden_rating,Tools_and_Home_Improvement_rating]\n",
    "list_to_review1=['Patio_Lawn_and_Garden_review','Tools_and_Home_Improvement_review','Patio_Lawn_and_Garden_rating','Tools_and_Home_Improvement_rating']\n",
    "\n",
    "for data,name in zip(list_to_review,list_to_review1):\n",
    "    print('--------------------------------')\n",
    "    print('Data set name =',name)                                #name of dataset\n",
    "    print('--------------------------------')\n",
    "    print('Data set shape =',data.shape)                         #data set shape \n",
    "    print('--------------------------------')                   \n",
    "    print('Data set datatype=\\n',data.dtypes)                    #data types \n",
    "    print('--------------------------------')\n",
    "    print('Missing value checking for', name ,'dataset')\n",
    "    print(data.isnull().sum())                                   #missing values in columns\n",
    "    print('-------------------------------------------')\n",
    "    print('Percentage of missing values in dataframe')   \n",
    "    per=((data.isnull().sum()/len(data)*100))                    #percentage of missing values \n",
    "    print('columns with of missing values between 0 to 30%')\n",
    "    per0_35=per[(per.values > 0) & (per.values <30)]             #columns with 0-30% missing values\n",
    "    print(per0_35)                                               # over all percentage\n",
    "    print('--------------------------------------------')\n",
    "    per_30=per[per.values>30]                                    # columns with more than 30% missing values\n",
    "    print('columns with more than 30% of missing values')\n",
    "    print(per_30)\n",
    "    print('*'*100)"
   ]
  },
  {
   "cell_type": "markdown",
   "id": "af872d96",
   "metadata": {},
   "source": [
    "### <u>Understanding Data</u> (Meta data) "
   ]
  },
  {
   "cell_type": "code",
   "execution_count": 20,
   "id": "0cc3724a",
   "metadata": {},
   "outputs": [
    {
     "name": "stdout",
     "output_type": "stream",
     "text": [
      "--------------------------------\n",
      "Data set name = meta_garden\n",
      "--------------------------------\n",
      "Data set shape = (279456, 19)\n",
      "--------------------------------\n",
      "Data set datatype=\n",
      " category           object\n",
      "tech1              object\n",
      "description        object\n",
      "fit                object\n",
      "title              object\n",
      "also_buy           object\n",
      "tech2              object\n",
      "brand              object\n",
      "feature            object\n",
      "rank               object\n",
      "also_view          object\n",
      "main_cat           object\n",
      "similar_item       object\n",
      "date               object\n",
      "price              object\n",
      "asin               object\n",
      "imageURL           object\n",
      "imageURLHighRes    object\n",
      "details            object\n",
      "dtype: object\n",
      "--------------------------------\n",
      "Missing value checking for meta_garden dataset\n",
      "category            0\n",
      "tech1               0\n",
      "description         0\n",
      "fit                 0\n",
      "title               0\n",
      "also_buy            0\n",
      "tech2               0\n",
      "brand               0\n",
      "feature             0\n",
      "rank                0\n",
      "also_view           0\n",
      "main_cat            0\n",
      "similar_item        0\n",
      "date                0\n",
      "price               0\n",
      "asin                0\n",
      "imageURL            0\n",
      "imageURLHighRes     0\n",
      "details            22\n",
      "dtype: int64\n",
      "-------------------------------------------\n",
      "columns with of missing values between 0 to 30%\n",
      "details    0.007872\n",
      "dtype: float64\n",
      "--------------------------------------------\n",
      "columns with more than 30% of missing values\n",
      "Series([], dtype: float64)\n",
      "**************************************************\n",
      "--------------------------------\n",
      "Data set name = meta_data_tools\n",
      "--------------------------------\n",
      "Data set shape = (1048575, 8)\n",
      "--------------------------------\n",
      "Data set datatype=\n",
      " asin          object\n",
      "category      object\n",
      "title         object\n",
      "main_cat      object\n",
      "brand         object\n",
      "price         object\n",
      "date          object\n",
      "Unnamed: 7    object\n",
      "dtype: object\n",
      "--------------------------------\n",
      "Missing value checking for meta_data_tools dataset\n",
      "asin          477040\n",
      "category      477040\n",
      "title              0\n",
      "main_cat      478772\n",
      "brand              1\n",
      "price         715722\n",
      "date          589909\n",
      "Unnamed: 7    590322\n",
      "dtype: int64\n",
      "-------------------------------------------\n",
      "columns with of missing values between 0 to 30%\n",
      "brand      0.000095\n",
      "dtype: float64\n",
      "--------------------------------------------\n",
      "columns with more than 30% of missing values\n",
      "asin          45.494123\n",
      "category      45.494123\n",
      "main_cat      45.659300\n",
      "price         68.256634\n",
      "date          56.258160\n",
      "Unnamed: 7    56.297547\n",
      "dtype: float64\n",
      "**************************************************\n"
     ]
    }
   ],
   "source": [
    "list1=[meta_garden,meta_data_tools]     # meta data\n",
    "list2=['meta_garden','meta_data_tools']\n",
    "for data,name in zip(list1,list2):\n",
    "    print('--------------------------------')\n",
    "    print('Data set name =',name)                                #name of dataset\n",
    "    print('--------------------------------')\n",
    "    print('Data set shape =',data.shape)                         #data set shape\n",
    "    print('--------------------------------')\n",
    "    print('Data set datatype=\\n',data.dtypes)                    #data types \n",
    "    print('--------------------------------') \n",
    "    print('Missing value checking for', name ,'dataset')\n",
    "    print(data.isnull().sum())                                   #missing values in columns\n",
    "    print('-------------------------------------------')\n",
    "    per=((data.isnull().sum()/len(data)*100))                    #percentage of missing values \n",
    "    print('columns with of missing values between 0 to 30%')\n",
    "    per0_35=per[(per.values > 0) & (per.values <30)]             #columns with 0-30% missing values\n",
    "    print(per0_35)                                               # over all percentage\n",
    "    print('--------------------------------------------')\n",
    "    per_30=per[per.values>30]                                    # columns with more than 30% missing values\n",
    "    print('columns with more than 30% of missing values')\n",
    "    print(per_30)\n",
    "    print('*'*50)\n",
    " "
   ]
  },
  {
   "cell_type": "markdown",
   "id": "41dc9041",
   "metadata": {},
   "source": [
    "### <u>Review files Preprocessing</u>"
   ]
  },
  {
   "cell_type": "markdown",
   "id": "a0ae95ef",
   "metadata": {},
   "source": [
    "##### Missing value treatment in review files"
   ]
  },
  {
   "cell_type": "code",
   "execution_count": 143,
   "id": "ed8098b0",
   "metadata": {},
   "outputs": [],
   "source": [
    "#for missing value treatment in review files\n",
    "def missing_value_treatment(df):\n",
    "    df.drop(columns={'vote','style','image','unixReviewTime'},axis=1,inplace=True)    #dropping columns having more than 30% missing values\n",
    "\n",
    "missing_value_treatment(Tools_and_Home_Improvement_5)                # review file Tools_and_Home_Improvement\n",
    "missing_value_treatment(Patio_Lawn_and_Garden_5)                     # review file Patio-Lawn-Garden"
   ]
  },
  {
   "cell_type": "code",
   "execution_count": 144,
   "id": "9dd3aa2e",
   "metadata": {},
   "outputs": [],
   "source": [
    "#Patio-Lawn-Garden file\n",
    "#finding indexes of rows with null values\n",
    "in1=Patio_Lawn_and_Garden_5[Patio_Lawn_and_Garden_5['reviewerName'].isnull()].index\n",
    "Patio_Lawn_and_Garden_5.drop(in1,inplace=True)                  #dropping rows containg null values\n",
    "in2=Patio_Lawn_and_Garden_5[Patio_Lawn_and_Garden_5['reviewText'].isnull()].index\n",
    "Patio_Lawn_and_Garden_5.drop(in2,inplace=True)\n",
    "in3=Patio_Lawn_and_Garden_5[Patio_Lawn_and_Garden_5['summary'].isnull()].index\n",
    "Patio_Lawn_and_Garden_5.drop(in3,inplace=True)\n",
    "\n",
    "#Tools Home and Improvement file\n",
    "#finding indexes of rows with null values\n",
    "in4=Tools_and_Home_Improvement_5[Tools_and_Home_Improvement_5['reviewerName'].isnull()].index\n",
    "Tools_and_Home_Improvement_5.drop(in4,inplace=True)             #dropping rows containg null values\n",
    "in5=Tools_and_Home_Improvement_5[Tools_and_Home_Improvement_5['reviewText'].isnull()].index\n",
    "Tools_and_Home_Improvement_5.drop(in5,inplace=True)\n",
    "in6=Tools_and_Home_Improvement_5[Tools_and_Home_Improvement_5['summary'].isnull()].index\n",
    "Tools_and_Home_Improvement_5.drop(in6,inplace=True)"
   ]
  },
  {
   "cell_type": "markdown",
   "id": "778e798c",
   "metadata": {},
   "source": [
    "##### Processing 'reviewTime' column "
   ]
  },
  {
   "cell_type": "code",
   "execution_count": 146,
   "id": "45cce183",
   "metadata": {},
   "outputs": [],
   "source": [
    "#processing date column in review files\n",
    "from datetime import datetime\n",
    "# Parse the input string as a date\n",
    "def process_date(date_string):\n",
    "    date = datetime.strptime(date_string, \"%m %d, %Y\")\n",
    "# Format the date as a string in the desired output format\n",
    "    output_string = date.strftime(\"%m-%d-%Y\")\n",
    "\n",
    "    return output_string  # Output: \"09-01-2016\"\n",
    "\n",
    "#converting reviewtime column in review files\n",
    "Tools_and_Home_Improvement_5['reviewTime']=Tools_and_Home_Improvement_5['reviewTime'].apply(lambda x:process_date(x))\n",
    "Patio_Lawn_and_Garden_5['reviewTime']=Patio_Lawn_and_Garden_5['reviewTime'].apply(lambda x:process_date(x))"
   ]
  },
  {
   "cell_type": "code",
   "execution_count": 292,
   "id": "f772a870",
   "metadata": {},
   "outputs": [
    {
     "data": {
      "text/html": [
       "<div>\n",
       "<style scoped>\n",
       "    .dataframe tbody tr th:only-of-type {\n",
       "        vertical-align: middle;\n",
       "    }\n",
       "\n",
       "    .dataframe tbody tr th {\n",
       "        vertical-align: top;\n",
       "    }\n",
       "\n",
       "    .dataframe thead th {\n",
       "        text-align: right;\n",
       "    }\n",
       "</style>\n",
       "<table border=\"1\" class=\"dataframe\">\n",
       "  <thead>\n",
       "    <tr style=\"text-align: right;\">\n",
       "      <th></th>\n",
       "      <th>overall</th>\n",
       "      <th>verified</th>\n",
       "      <th>reviewTime</th>\n",
       "      <th>reviewerID</th>\n",
       "      <th>asin</th>\n",
       "      <th>reviewerName</th>\n",
       "      <th>reviewText</th>\n",
       "      <th>summary</th>\n",
       "    </tr>\n",
       "  </thead>\n",
       "  <tbody>\n",
       "    <tr>\n",
       "      <th>0</th>\n",
       "      <td>5.0</td>\n",
       "      <td>True</td>\n",
       "      <td>01-28-2018</td>\n",
       "      <td>AL19QO4XLBQPU</td>\n",
       "      <td>0982085028</td>\n",
       "      <td>J. Mollenkamp</td>\n",
       "      <td>returned, decided against this product</td>\n",
       "      <td>Five Stars</td>\n",
       "    </tr>\n",
       "    <tr>\n",
       "      <th>1</th>\n",
       "      <td>5.0</td>\n",
       "      <td>True</td>\n",
       "      <td>11-30-2017</td>\n",
       "      <td>A1I7CVB7X3T81E</td>\n",
       "      <td>0982085028</td>\n",
       "      <td>warfam</td>\n",
       "      <td>Awesome heater for the electrical requirements...</td>\n",
       "      <td>Five Stars</td>\n",
       "    </tr>\n",
       "    <tr>\n",
       "      <th>2</th>\n",
       "      <td>5.0</td>\n",
       "      <td>True</td>\n",
       "      <td>09-12-2017</td>\n",
       "      <td>A1AQXO4P5U674E</td>\n",
       "      <td>0982085028</td>\n",
       "      <td>gbieber2</td>\n",
       "      <td>Keeps the mist of your wood trim and on you. B...</td>\n",
       "      <td>Five Stars</td>\n",
       "    </tr>\n",
       "    <tr>\n",
       "      <th>3</th>\n",
       "      <td>4.0</td>\n",
       "      <td>True</td>\n",
       "      <td>07-19-2017</td>\n",
       "      <td>AIRV678P7C4NK</td>\n",
       "      <td>0982085028</td>\n",
       "      <td>Justin Banner</td>\n",
       "      <td>So far I hooked it up and tested it , filled a...</td>\n",
       "      <td>it is the perfect temp for a shower</td>\n",
       "    </tr>\n",
       "    <tr>\n",
       "      <th>4</th>\n",
       "      <td>1.0</td>\n",
       "      <td>True</td>\n",
       "      <td>05-25-2017</td>\n",
       "      <td>A22I5QDNTNECDW</td>\n",
       "      <td>0982085028</td>\n",
       "      <td>daveparker</td>\n",
       "      <td>i installed this 10 months ago, instructions w...</td>\n",
       "      <td>worked well...for 10 months.</td>\n",
       "    </tr>\n",
       "  </tbody>\n",
       "</table>\n",
       "</div>"
      ],
      "text/plain": [
       "   overall  verified  reviewTime      reviewerID        asin   reviewerName  \\\n",
       "0      5.0      True  01-28-2018   AL19QO4XLBQPU  0982085028  J. Mollenkamp   \n",
       "1      5.0      True  11-30-2017  A1I7CVB7X3T81E  0982085028         warfam   \n",
       "2      5.0      True  09-12-2017  A1AQXO4P5U674E  0982085028       gbieber2   \n",
       "3      4.0      True  07-19-2017   AIRV678P7C4NK  0982085028  Justin Banner   \n",
       "4      1.0      True  05-25-2017  A22I5QDNTNECDW  0982085028     daveparker   \n",
       "\n",
       "                                          reviewText  \\\n",
       "0             returned, decided against this product   \n",
       "1  Awesome heater for the electrical requirements...   \n",
       "2  Keeps the mist of your wood trim and on you. B...   \n",
       "3  So far I hooked it up and tested it , filled a...   \n",
       "4  i installed this 10 months ago, instructions w...   \n",
       "\n",
       "                               summary  \n",
       "0                           Five Stars  \n",
       "1                           Five Stars  \n",
       "2                           Five Stars  \n",
       "3  it is the perfect temp for a shower  \n",
       "4         worked well...for 10 months.  "
      ]
     },
     "execution_count": 292,
     "metadata": {},
     "output_type": "execute_result"
    }
   ],
   "source": [
    "Tools_and_Home_Improvement_5.head()                    #checking head()"
   ]
  },
  {
   "cell_type": "code",
   "execution_count": 150,
   "id": "bbe79edf",
   "metadata": {},
   "outputs": [],
   "source": [
    "#converting clean review files to csv \n",
    "Patio_Lawn_and_Garden_5.to_csv('Patio_Lawn_and_Garden_5.csv',index=False)\n",
    "Tools_and_Home_Improvement_5.to_csv('Tools_and_Home_Improvement_5.csv',index=False)"
   ]
  },
  {
   "cell_type": "markdown",
   "id": "d33cd17d",
   "metadata": {},
   "source": [
    "### <u>Meta data Preprocessing</u> (Patio-Lawn-Garden)"
   ]
  },
  {
   "cell_type": "code",
   "execution_count": 20,
   "id": "8d56a77f",
   "metadata": {},
   "outputs": [],
   "source": [
    "pd.set_option('display.max_rows', None)           #displaying all rows"
   ]
  },
  {
   "cell_type": "code",
   "execution_count": 26,
   "id": "7309e721",
   "metadata": {},
   "outputs": [],
   "source": [
    "#accessing required columns\n",
    "meta_data_garden=meta_garden[['category', 'asin', 'main_cat', 'brand', 'price', 'title','rank']]"
   ]
  },
  {
   "cell_type": "markdown",
   "id": "09524aba",
   "metadata": {},
   "source": [
    "##### Finding RANK in meta data (Processing rank column)"
   ]
  },
  {
   "cell_type": "code",
   "execution_count": 27,
   "id": "de8b8cd7",
   "metadata": {},
   "outputs": [],
   "source": [
    "# Convert the values in the column to lists if they are in strings\n",
    "def to_list(value):\n",
    "    if isinstance(value, str):\n",
    "        return value.split()\n",
    "    return value\n",
    "#converting strings to list in meta data : Patio-Lawn-garden\n",
    "meta_data_garden['rank'] = meta_data_garden['rank'].apply(to_list)\n",
    "\n",
    "# preprocessing (removing ># and selecting only digits)\n",
    "import re\n",
    "def rank_process(i):\n",
    "    v =''\n",
    "    for k in range(0,len(i)):\n",
    "        c = re.sub('\\>\\#','',i[k].split()[0])   # working i[k] here i is list ex- [>#23,756 hello world][0] \n",
    "        c = re.sub('\\D+','',c)\n",
    "        v = v + ' ' + c\n",
    "    return v\n",
    "\n",
    "#Processing rank column in meta data : Patio-Lawn-Garden\n",
    "meta_data_garden['returned_rank']=meta_data_garden['rank'].apply(lambda x:rank_process(x))\n",
    "\n",
    "#finding indexes where returned rank is empty\n",
    "index4=meta_data_garden[meta_data_garden['returned_rank']==''].index  # removing 1 spaces\n",
    "meta_data_garden.drop(index4,inplace=True)             #dropping indexes where returned rank is empty\n",
    "\n",
    "#accessing main category rank from returned rank column \n",
    "meta_data_garden['main_cat_rank']=meta_data_garden['returned_rank'].apply(lambda x:str(x).split()[0])\n",
    "\n",
    "#dropping extra column : returned rank \n",
    "meta_data_garden.drop(columns=['returned_rank','rank'],inplace=True,axis=1)"
   ]
  },
  {
   "cell_type": "markdown",
   "id": "db095fb6",
   "metadata": {},
   "source": [
    "##### Processing 'main_cat' column"
   ]
  },
  {
   "cell_type": "code",
   "execution_count": 28,
   "id": "2eeac6f3",
   "metadata": {},
   "outputs": [],
   "source": [
    "# Removing noise from main_cat column : finding indexes with noise\n",
    "index_name=meta_data_garden[(meta_data_garden['main_cat']=='<img src=\"https://images-na.ssl-images-amazon.com/images/G/01/nav2/images/gui/amazon-fashion-store-new._CB520838675_.png\" class=\"nav-categ-image\" alt=\"AMAZON FASHION\"/>')|(meta_data_garden['main_cat']=='<img src=\"https://m.media-amazon.com/images/G/01/digital/music/logos/amzn_music_logo_subnav._CB471835632_.png\" class=\"nav-categ-image\" alt=\"Digital Music\"/>')|(meta_data_garden['main_cat']=='<img src=\"https://images-na.ssl-images-amazon.com/images/G/01/digital/music/logos/amzn_music_logo_subnav._CB471835632_.png\" class=\"nav-categ-image\" alt=\"Digital Music\"/>')| (meta_data_garden['main_cat']=='')].index\n",
    "meta_data_garden.drop(index_name,inplace=True) #dropping indexes with noise"
   ]
  },
  {
   "cell_type": "markdown",
   "id": "1642d2be",
   "metadata": {},
   "source": [
    "##### Processing 'price' column"
   ]
  },
  {
   "cell_type": "code",
   "execution_count": 29,
   "id": "fd9f0c98",
   "metadata": {},
   "outputs": [],
   "source": [
    "# Removing noise from price column from garden : finding indexes with noise\n",
    "index_price=meta_data_garden[(meta_data_garden['price']=='')|(meta_data_garden['price']=='.a-box-inner{background-color:#fff}#alohaBuyBoxWidget .selected{background-color:#fffbf3;border-color:#e77600;box-shadow:0 0 3px rgba(228,121,17,.5)}#alohaBuyBoxWidget .contract-not-available{color:gray}#aloha-cart-popover .aloha-cart{height:auto;overflow:hidden}#aloha-cart-popover #aloha-cartInfo{float:left}#aloha-cart-popover #aloha-cart-details{float:right;margin-top:1em}#aloha-cart-popover .deviceContainer{width:160px;float:left;padding-right:10px;border-right:1px solid #ddd}#aloha-cart-popover li:last-child{border-right:0}#aloha-cart-popover .aloha-device-title{height:3em;overflow:hidden}#aloha-cart-popover .aloha-thumbnail-container{height:100px;margin-bottom:1em;text-align:center}#aloha-cart-popover .aloha-price-container{text-align:center}#aloha-cart-popover .aloha-thumbnail-container img{height:inherit}#aloha-cart-popover .aloha-cart{border-top:1px solid #ddd;border-bottom:1px solid #ddd}#aloha-cart-popover #aloha-cart-info{margin-right:0}#alohaBuyBoxWidget .without-contract-subheading{margin-right:0}#aloha-bb-help-nodes .aloha-bb-contract-term-heading{color:gray;font-family:arial;margin-top:.5em;text-align:center;height:.7em;border-bottom:1px solid gray;margin-bottom:1.6em}#aloha-bb-help-nodes .aloha-bb-contract-term-heading span{background-color:#fff;padding:0 10px 0 10px}#alohaAvailabilityUS_feature_div .availability a{text-decoration:none}#alohaPricingWidget a{text-decoration:none}#alohaAvailabilityUS_feature_div .availability{margin-top:-4px;margin-bottom:0}#alohaBuyBoxWidget .select-transaction-alert .a-icon-alert{top:18px;left:3px}#alohaBuyBoxWidget .select-transaction-alert .a-alert-container{padding-left:39px;width:290px}#alohaBuyBoxUS_feature_div #alohaBuyBoxWidget .contract-container .contract-term-heading a{text-decoration:none}#alohaBuyBoxUS_feature_div #alohaBuyBoxWidget .annual-contract-box .a-icon-popover{display:none}#alohaBuyBoxUS_feature_div #alohaBuyBoxWidget .contract-container .annual-contract-box{cursor:pointer;cursor:hand}#alohaBuyBoxUS_feature_div #alohaBuyBoxWidget .aloha-buybox-price{font-size:15px}#alohaBuyBoxUS_feature_div #alohaBuyBoxWidget #linkOffSection a{text-decoration:none}#alohaBuyBoxUS_feature_div .lockedUsedBuyboxContainer{padding-left:3.5%}#alohaBuyBoxUS_feature_div .alohaBuyboxUtilsNoWrap{white-space:nowrap}.hidden{display:none}.simo-no-padding{padding:0}.carrier-reviews-cell{padding-left:10px}.carrier-reviews-bordered-cell{border:1px dotted #ccc}.carrier-reviews-selected-cell{background-color:#ffd}#aloha-carrier-compatibility-modal-table-description{margin-top:10px;margin-bottom:14px}.aloha-carrier-compatibility-sortable-header.carrier{min-width:97px}.aloha-carrier-compatibility-sortable-header.compatibility{min-width:156px}.aloha-carrier-compatibility-sortable-header div{float:left}.aloha-carrier-compatibility-sortable-header i.a-icon{margin-left:10px;margin-top:4px}#aloha-carrier-compatibility-overview-table.a-bordered.a-vertical-stripes td:nth-child(2n),#aloha-carrier-compatibility-overview-table.a-bordered.a-vertical-stripes th:nth-child(2n){background-color:initial}#aloha-carrier-compatibility-modal-table.a-bordered.a-vertical-stripes td:nth-child(2n),#aloha-carrier-compatibility-modal-table.a-bordered.a-vertical-stripes th:nth-child(2n){background-color:initial}#aloha-carrier-compatibility-table.a-bordered.a-vertical-stripes th:nth-child(2n),.aloha-carrier-compatibility-table.a-bordered.a-vertical-stripes td:nth-child(2n){background-color:transparent}.aloha-carrier-compatibility-column-gray{background-color:#f6f6f6}.aloha-carrier-compatibility-modal-table-row .aloha-carrier-compatibility-tech-text,.aloha-carrier-compatibility-modal-table-row .carrier-name,.aloha-carrier-compatibility-modal-table-row .carrier-rating-summary{min-height:27px;display:inline-block;cursor:default}.aloha-carrier-compatibility-modal-table-row .aloha-carrier-compatibility-tech-text:first-line,.aloha-carrier-compatibility-modal-table-row .carrier-name:first-line,.aloha-carrier-compatibility-modal-table-row .carrier-rating-summary:first-line{line-height:27px}.aloha-carrier-compatibility-modal-table-row .aloha-carrier-compatibility-icon{margin-top:6px}.aloha-carrier-compatibility-check-icon{width:30px;height:27px;background-position:-318px -35px;background-image:url(https://images-na.ssl-images-amazon.com/images/G/01/AUIClients/AmazonUIBaseCSS-sprite_2x-8e7ef370dc28a214b3f490c9620f4ac501d5a864._V2_.png);background-repeat:no-repeat;background-size:400px 650px;display:inline-block;vertical-align:top}.aloha-carrier-compatibility-hidden{display:none}.aloha-buybox-spaced-link{margin-top:12px;margin-bottom:7px;text-align:center}.popover-tab')].index\n",
    "meta_data_garden.drop(index_price,inplace=True)  #dropping indexes with noise\n",
    "\n",
    "# cleaning price column from garden meta data \n",
    "import re\n",
    "def process_price(file):    \n",
    "    result=re.sub('[$]','',file)\n",
    "    result = re.sub(r\"\\-\\s\\d+\\.\\d+\", \"\", result)\n",
    "    result = re.sub(r\"\\-\\s\\d+\", \"\", result)\n",
    "    return result\n",
    "\n",
    "#cleaning price column\n",
    "meta_data_garden['price']=meta_data_garden['price'].apply(lambda x: process_price(x))"
   ]
  },
  {
   "cell_type": "markdown",
   "id": "9fe77b66",
   "metadata": {},
   "source": [
    "##### Processing 'brand' & 'title' column"
   ]
  },
  {
   "cell_type": "code",
   "execution_count": 31,
   "id": "77953653",
   "metadata": {},
   "outputs": [],
   "source": [
    "# droping space noise from brand and title : finding indexes with empty data\n",
    "index_brand=meta_data_garden[meta_data_garden['brand']==''].index\n",
    "meta_data_garden.drop(index_brand,inplace=True)    #dropping indexes with empty data\n",
    "\n",
    "index_title=meta_data_garden[meta_data_garden['title']==''].index\n",
    "meta_data_garden.drop(index_title,inplace=True)    #dropping indexes with empty data"
   ]
  },
  {
   "cell_type": "code",
   "execution_count": 170,
   "id": "2cc9f04b",
   "metadata": {},
   "outputs": [],
   "source": [
    "#converting clean meta data to csv file \n",
    "meta_data_garden.to_csv('meta_data_garden.csv',index=False)"
   ]
  },
  {
   "cell_type": "markdown",
   "id": "4f235af7",
   "metadata": {},
   "source": [
    "### <u>Meta data Preprocessing</u> (Tools and Home Improvement)"
   ]
  },
  {
   "cell_type": "code",
   "execution_count": 32,
   "id": "4b56bdf3",
   "metadata": {},
   "outputs": [],
   "source": [
    "meta_data_tools=pd.read_csv('tools_meta_all_data.csv')  # loading meta file"
   ]
  },
  {
   "cell_type": "code",
   "execution_count": 33,
   "id": "5a3dcef1",
   "metadata": {},
   "outputs": [],
   "source": [
    "meta_rank_clean=pd.read_csv('meta_tools_rank.csv')  # loading rank file\n",
    "#adding rank column to meta file\n",
    "meta_data_tools['rank']=meta_rank_clean['rank']\n",
    "\n",
    "meta_data_tools['rank']=meta_data_tools['rank'].astype(str)  # converting to string type"
   ]
  },
  {
   "cell_type": "markdown",
   "id": "c6855e15",
   "metadata": {},
   "source": [
    "##### Processing 'rank' column"
   ]
  },
  {
   "cell_type": "code",
   "execution_count": 34,
   "id": "6daa19ed",
   "metadata": {},
   "outputs": [],
   "source": [
    "import re\n",
    "#function for cleaning rank column \n",
    "def clean_rank(value):\n",
    "    d=re.sub('\\D+',' ',value)\n",
    "    return d\n",
    "#cleaning rank column in Tools and Home Improvement meta data\n",
    "meta_data_tools['main_cat_rank']=meta_data_tools['rank'].apply(lambda x:clean_rank(x))"
   ]
  },
  {
   "cell_type": "code",
   "execution_count": 35,
   "id": "86a5144a",
   "metadata": {},
   "outputs": [],
   "source": [
    "#function for accessing first rank out of three ranks avaliable in column \n",
    "def split(value):\n",
    "    v=value.split()[0]\n",
    "    return v\n",
    "\n",
    "#accessing desired rank and storing in main_cat_rank column\n",
    "meta_data_tools['main_cat_rank']=meta_data_tools['rank'].apply(lambda x:split(x))\n",
    "\n",
    "#dropping column 'rank'\n",
    "meta_data_tools.drop(columns='rank',inplace=True,axis=1)"
   ]
  },
  {
   "cell_type": "markdown",
   "id": "4c5ebfb9",
   "metadata": {},
   "source": [
    "##### Missing value treatment"
   ]
  },
  {
   "cell_type": "code",
   "execution_count": 36,
   "id": "8a342674",
   "metadata": {},
   "outputs": [],
   "source": [
    "meta_data_tools.dropna(inplace=True,axis=0)              #dropping null values"
   ]
  },
  {
   "cell_type": "markdown",
   "id": "d531c3fa",
   "metadata": {},
   "source": [
    "##### Processing month and year columns"
   ]
  },
  {
   "cell_type": "code",
   "execution_count": 37,
   "id": "806ab5dc",
   "metadata": {},
   "outputs": [],
   "source": [
    "#merging date columns (month and year)\n",
    "meta_data_tools['date2']=meta_data_tools['date']+\"-\"+meta_data_tools['Unnamed: 7']\n",
    "meta_data_tools.drop(columns=['date','Unnamed: 7'],axis=1,inplace=True)             #dropping separate month and date columns\n",
    "meta_data_tools.rename(columns={'date2':'date'},inplace=True)                       #renaming date column "
   ]
  },
  {
   "cell_type": "markdown",
   "id": "c4b5c133",
   "metadata": {},
   "source": [
    "##### Processing 'category' column"
   ]
  },
  {
   "cell_type": "code",
   "execution_count": 38,
   "id": "dd4785d6",
   "metadata": {},
   "outputs": [],
   "source": [
    "#finding indexes in category column with empty data\n",
    "index_category=meta_data_tools[meta_data_tools['category']=='[]'].index  \n",
    "meta_data_tools.drop(index_category,inplace=True)   #dropping indexes with empty data"
   ]
  },
  {
   "cell_type": "markdown",
   "id": "1dfc3e47",
   "metadata": {},
   "source": [
    "##### Processing 'date' column"
   ]
  },
  {
   "cell_type": "code",
   "execution_count": 39,
   "id": "8a47df2c",
   "metadata": {},
   "outputs": [],
   "source": [
    "#finding indexes in date column with noise\n",
    "index_date=meta_data_tools[(meta_data_tools['date']=='<div class=\"a-fixed-left-grid a-spacing-none\"><div class=\"a-fixed-left-grid-inner\" style=\"padding-left:280px\"><div class=\"a-fixed-left-grid-col a-col-left\" style=\"width:280px;margin-left:-280px;float:left;\"><span class=\"a-declarative\" data-action=\"reviews:filter-action:push-state\" data-reviews:filter-action:push-state=\"{&quot;scrollToSelector&quot;:&quot;#reviews-filter-info&quot;-&quot;allowLinkDefault&quot;:&quot;1&quot;}\"><table id=\"histogramTable\" class=\"a-normal a-align-middle a-spacing-base\" role=\"presentation\"><tr class=\"a-histogram-row\"><td class=\"aok-nowrap\"><span aria-hidden=\"true\" class=\"a-size-base\">5 star</span><span class=\"a-offscreen\">5 star (0%)</span><span class=\"a-letter-space\"></span>') | (meta_data_tools['date']=='<div class=\"a-fixed-left-grid a-spacing-none\"><div class=\"a-fixed-left-grid-inner\" style=\"padding-left:280px\"><div class=\"a-fixed-left-grid-col a-col-left\" style=\"width:280px;margin-left:-280px;float:left;\"><span class=\"a-declarative\" data-action=\"reviews:filter-action:push-state\" data-reviews:filter-action:push-state=\"{&quot;scrollToSelector&quot;:&quot;#reviews-filter-info&quot;-&quot;allowLinkDefault&quot;:&quot;1&quot;}\"><table id=\"histogramTable\" class=\"a-normal a-align-middle a-spacing-base\" role=\"presentation\"><tr data-reftag=\"cm_cr_dp_d_hist_5\" data-reviews-state-param=\"{&quot;filterByStar&quot;:&quot;five_star&quot;') ].index\n",
    "meta_data_tools.drop(index_date,inplace=True)     #dropping indexes with noise"
   ]
  },
  {
   "cell_type": "markdown",
   "id": "fad72c08",
   "metadata": {},
   "source": [
    "##### Processing 'main_cat' column"
   ]
  },
  {
   "cell_type": "code",
   "execution_count": 40,
   "id": "e503af64",
   "metadata": {},
   "outputs": [],
   "source": [
    "#finding indexes with noise in main_cat column\n",
    "index_main=meta_data_tools[(meta_data_tools['main_cat']=='<img src=\"https://images-na.ssl-images-amazon.com/images/G/01/nav2/images/gui/amazon-fashion-store-new._CB520838675_.png\" class=\"nav-categ-image\" alt=\"AMAZON FASHION\"/>') | (meta_data_tools['main_cat']=='<img src=\"https://m.media-amazon.com/images/G/01/nav2/images/gui/amazon-fashion-store-new._CB520838675_.png\" class=\"nav-categ-image\" alt=\"AMAZON FASHION\"/>')].index\n",
    "meta_data_tools.drop(index_main,inplace=True)    #dropping indexes with noise"
   ]
  },
  {
   "cell_type": "markdown",
   "id": "8a41c432",
   "metadata": {},
   "source": [
    "##### Processing 'brand' column"
   ]
  },
  {
   "cell_type": "code",
   "execution_count": 44,
   "id": "b9109299",
   "metadata": {},
   "outputs": [],
   "source": [
    "#finding indexes containing noise (three spaces) in brand column\n",
    "index_brand=meta_data_tools[meta_data_tools['brand  ']=='  '].index  # removing 3 spaces\n",
    "meta_data_tools.drop(index_brand,inplace=True)       #dropping indexes with noise"
   ]
  },
  {
   "cell_type": "markdown",
   "id": "7c6fb1bc",
   "metadata": {},
   "source": [
    "##### Processing 'price' column"
   ]
  },
  {
   "cell_type": "code",
   "execution_count": 48,
   "id": "3bf83cef",
   "metadata": {},
   "outputs": [],
   "source": [
    "#finding indexes with noise in price column\n",
    "index_price=meta_data_tools[(meta_data_tools['price']==\".a-box-inner{background-color:#fff}#alohaBuyBoxWidget .selected{background-color:#fffbf3;border-color:#e77600;box-shadow:0 0 3px rgba(228\")| (meta_data_tools['main_cat']=='.a-section.a-spacing-mini{margin-bottom:6px!important;margin-top:10px}#actionPanel #availability{font-size:17px!important;font-weight:400!important}#actionPanel #availability p#pa_other_website_text{color:#888!important;margin-top:6px}#actionPanel #merchant-info{font-size:13px;color:#333}#actionPanel #pa_avaliability_message{font-size:12px!important;font-weight:400!important}#actionPanel #pa_avaliability_message a{white-space:normal!important}#actionPanel #pa_avaliability_message span{color:#888!important}#actionPanel #availability-brief #availability+br{display:none}// This is an empty file #actionPanel #bbop-sbbop-container{margin-bottom:0}#actionPanel .buybox-main{padding:0 40px}#actionPanel #priceblock_ourprice_row span.feature img{padding-top:8px!important}#actionPanel #onetimeOption .a-radio-label #priceBadging_feature_div a:not(.a-popover-trigger)')|(meta_data_tools['price']=='.a-section.a-spacing-mini{margin-bottom:6px!important;margin-top:10px}#actionPanel #availability{font-size:17px!important;font-weight:400!important}#actionPanel #availability p#pa_other_website_text{color:#888!important;margin-top:6px}#actionPanel #merchant-info{font-size:13px;color:#333}#actionPanel #pa_avaliability_message{font-size:12px!important;font-weight:400!important}#actionPanel #pa_avaliability_message a{white-space:normal!important}#actionPanel #pa_avaliability_message span{color:#888!important}#actionPanel #availability-brief #availability+br{display:none}// This is an empty file #actionPanel #bbop-sbbop-container{margin-bottom:0}#actionPanel .buybox-main{padding:0 40px}#actionPanel #priceblock_ourprice_row span.feature img{padding-top:8px!important}#actionPanel #onetimeOption .a-radio-label #priceBadging_feature_div a:not(.a-popover-trigger)')].index\n",
    "meta_data_tools.drop(index_price,inplace=True)     #dropping indexes with noise\n",
    "\n",
    "#applying process_price() defined above  for cleaning price column \n",
    "meta_data_tools['price']=meta_data_tools['price'].apply(lambda x: process_price(x))"
   ]
  },
  {
   "cell_type": "code",
   "execution_count": 58,
   "id": "f994f1bf",
   "metadata": {},
   "outputs": [],
   "source": [
    "#converting price column datatype to numeric\n",
    "meta_data_tools['price']=pd.to_numeric(meta_data_tools['price'])"
   ]
  },
  {
   "cell_type": "markdown",
   "id": "573d3f30",
   "metadata": {},
   "source": [
    "##### Processing 'date' column"
   ]
  },
  {
   "cell_type": "code",
   "execution_count": 46,
   "id": "4b77cb46",
   "metadata": {},
   "outputs": [],
   "source": [
    "import datetime\n",
    "#defining function to convert date to desired format\n",
    "def date_process(datestring):\n",
    "    # Parse the original date string\n",
    "    date = datetime.datetime.strptime(datestring,\"%b-%d-%Y\")\n",
    "    # Format the parsed date as a new string\n",
    "    new_date_string = date.strftime(\"%m-%d-%Y\")\n",
    "    return new_date_string                            # converting date from this 'mar-06-2014' to 03-06-2014\n",
    "\n",
    "#converting date in meta data : Tools and Home Improvement\n",
    "meta_data_tools['date']=meta_data_tools['date'].apply(lambda x:date_process(x))   "
   ]
  },
  {
   "cell_type": "code",
   "execution_count": 59,
   "id": "17b2b7a0",
   "metadata": {},
   "outputs": [],
   "source": [
    "#converting cleaned data to csv\n",
    "meta_data_tools.to_csv('meta_data_tools.csv',index=False)"
   ]
  },
  {
   "cell_type": "code",
   "execution_count": 263,
   "id": "c556f7f2",
   "metadata": {},
   "outputs": [
    {
     "data": {
      "text/html": [
       "<div>\n",
       "<style scoped>\n",
       "    .dataframe tbody tr th:only-of-type {\n",
       "        vertical-align: middle;\n",
       "    }\n",
       "\n",
       "    .dataframe tbody tr th {\n",
       "        vertical-align: top;\n",
       "    }\n",
       "\n",
       "    .dataframe thead th {\n",
       "        text-align: right;\n",
       "    }\n",
       "</style>\n",
       "<table border=\"1\" class=\"dataframe\">\n",
       "  <thead>\n",
       "    <tr style=\"text-align: right;\">\n",
       "      <th></th>\n",
       "      <th>asin</th>\n",
       "      <th>category</th>\n",
       "      <th>title</th>\n",
       "      <th>main_cat</th>\n",
       "      <th>brand</th>\n",
       "      <th>price</th>\n",
       "      <th>main_cat_rank</th>\n",
       "      <th>date</th>\n",
       "    </tr>\n",
       "  </thead>\n",
       "  <tbody>\n",
       "    <tr>\n",
       "      <th>10</th>\n",
       "      <td>1441309985</td>\n",
       "      <td>['Tools &amp; Home Improvement', 'Lighting &amp; Ceili...</td>\n",
       "      <td>Trio Reading Light Value Pack</td>\n",
       "      <td>Tools &amp; Home Improvement</td>\n",
       "      <td>Peter Pauper Press</td>\n",
       "      <td>31.90</td>\n",
       "      <td>123249</td>\n",
       "      <td>06-09-2014</td>\n",
       "    </tr>\n",
       "    <tr>\n",
       "      <th>13</th>\n",
       "      <td>1590651669</td>\n",
       "      <td>['Tools &amp; Home Improvement', 'Paint, Wall Trea...</td>\n",
       "      <td>Pantone Plus Series FORMULA Guides Solid Coate...</td>\n",
       "      <td>Tools &amp; Home Improvement</td>\n",
       "      <td>Pantone</td>\n",
       "      <td>129.99</td>\n",
       "      <td>121170</td>\n",
       "      <td>05-08-2010</td>\n",
       "    </tr>\n",
       "    <tr>\n",
       "      <th>14</th>\n",
       "      <td>1590653289</td>\n",
       "      <td>['Tools &amp; Home Improvement', 'Paint, Wall Trea...</td>\n",
       "      <td>PANTONE GP1501 Plus Series Formula Guide Coate...</td>\n",
       "      <td>Tools &amp; Home Improvement</td>\n",
       "      <td>Pantone</td>\n",
       "      <td>134.95</td>\n",
       "      <td>250367</td>\n",
       "      <td>03-04-2014</td>\n",
       "    </tr>\n",
       "    <tr>\n",
       "      <th>15</th>\n",
       "      <td>1590651529</td>\n",
       "      <td>['Tools &amp; Home Improvement', 'Paint, Wall Trea...</td>\n",
       "      <td>Pantone Plus Series GP4001 CMYK Coated &amp;amp; U...</td>\n",
       "      <td>Tools &amp; Home Improvement</td>\n",
       "      <td>Pantone</td>\n",
       "      <td>129.99</td>\n",
       "      <td>985951</td>\n",
       "      <td>05-08-2010</td>\n",
       "    </tr>\n",
       "    <tr>\n",
       "      <th>17</th>\n",
       "      <td>1594412324</td>\n",
       "      <td>['Tools &amp; Home Improvement', 'Paint, Wall Trea...</td>\n",
       "      <td>Carson Dellosa Leopard Print Borders (1242)</td>\n",
       "      <td>Office Products</td>\n",
       "      <td>Carson-Dellosa</td>\n",
       "      <td>7.55</td>\n",
       "      <td>284955</td>\n",
       "      <td>10-17-2017</td>\n",
       "    </tr>\n",
       "  </tbody>\n",
       "</table>\n",
       "</div>"
      ],
      "text/plain": [
       "          asin                                           category  \\\n",
       "10  1441309985  ['Tools & Home Improvement', 'Lighting & Ceili...   \n",
       "13  1590651669  ['Tools & Home Improvement', 'Paint, Wall Trea...   \n",
       "14  1590653289  ['Tools & Home Improvement', 'Paint, Wall Trea...   \n",
       "15  1590651529  ['Tools & Home Improvement', 'Paint, Wall Trea...   \n",
       "17  1594412324  ['Tools & Home Improvement', 'Paint, Wall Trea...   \n",
       "\n",
       "                                               title   \\\n",
       "10                     Trio Reading Light Value Pack    \n",
       "13  Pantone Plus Series FORMULA Guides Solid Coate...   \n",
       "14  PANTONE GP1501 Plus Series Formula Guide Coate...   \n",
       "15  Pantone Plus Series GP4001 CMYK Coated &amp; U...   \n",
       "17       Carson Dellosa Leopard Print Borders (1242)    \n",
       "\n",
       "                    main_cat               brand     price main_cat_rank  \\\n",
       "10  Tools & Home Improvement  Peter Pauper Press     31.90        123249   \n",
       "13  Tools & Home Improvement             Pantone    129.99        121170   \n",
       "14  Tools & Home Improvement             Pantone    134.95        250367   \n",
       "15  Tools & Home Improvement             Pantone    129.99        985951   \n",
       "17           Office Products      Carson-Dellosa      7.55        284955   \n",
       "\n",
       "          date  \n",
       "10  06-09-2014  \n",
       "13  05-08-2010  \n",
       "14  03-04-2014  \n",
       "15  05-08-2010  \n",
       "17  10-17-2017  "
      ]
     },
     "execution_count": 263,
     "metadata": {},
     "output_type": "execute_result"
    }
   ],
   "source": [
    "meta_data_tools.head(5)                     #checking head()"
   ]
  },
  {
   "cell_type": "markdown",
   "id": "10a77860",
   "metadata": {},
   "source": [
    "### <u>Checking dataframe shapes</u>"
   ]
  },
  {
   "cell_type": "code",
   "execution_count": 64,
   "id": "1239dfd3",
   "metadata": {
    "collapsed": true
   },
   "outputs": [
    {
     "ename": "NameError",
     "evalue": "name 'Tools_and_Home_Improvement_5' is not defined",
     "output_type": "error",
     "traceback": [
      "\u001b[1;31m---------------------------------------------------------------------------\u001b[0m",
      "\u001b[1;31mNameError\u001b[0m                                 Traceback (most recent call last)",
      "Input \u001b[1;32mIn [64]\u001b[0m, in \u001b[0;36m<cell line: 1>\u001b[1;34m()\u001b[0m\n\u001b[1;32m----> 1\u001b[0m \u001b[38;5;28mprint\u001b[39m(\u001b[38;5;124m'\u001b[39m\u001b[38;5;124mtool_review=\u001b[39m\u001b[38;5;124m'\u001b[39m,\u001b[43mTools_and_Home_Improvement_5\u001b[49m\u001b[38;5;241m.\u001b[39mshape)\n\u001b[0;32m      2\u001b[0m \u001b[38;5;28mprint\u001b[39m(\u001b[38;5;124m'\u001b[39m\u001b[38;5;124mgarden_review\u001b[39m\u001b[38;5;124m'\u001b[39m,Patio_Lawn_and_Garden_5\u001b[38;5;241m.\u001b[39mshape)\n\u001b[0;32m      3\u001b[0m \u001b[38;5;28mprint\u001b[39m(\u001b[38;5;124m'\u001b[39m\u001b[38;5;124mtool_rating =\u001b[39m\u001b[38;5;124m'\u001b[39m,Tools_and_Home_Improvement_rating\u001b[38;5;241m.\u001b[39mshape)\n",
      "\u001b[1;31mNameError\u001b[0m: name 'Tools_and_Home_Improvement_5' is not defined"
     ]
    }
   ],
   "source": [
    "print('tool_review=',Tools_and_Home_Improvement_5.shape)\n",
    "print('garden_review',Patio_Lawn_and_Garden_5.shape)\n",
    "print('tool_rating =',Tools_and_Home_Improvement_rating.shape)\n",
    "print('garden_rating =',Patio_Lawn_and_Garden_rating.shape)\n",
    "print('garden_meta =',meta_data_garden.shape)\n",
    "print('tool_meta =',meta_data_tools.shape)"
   ]
  },
  {
   "cell_type": "markdown",
   "id": "cb92dba4",
   "metadata": {},
   "source": [
    "### <u>Merging dataframes</u>"
   ]
  },
  {
   "cell_type": "code",
   "execution_count": 65,
   "id": "40373168",
   "metadata": {},
   "outputs": [],
   "source": [
    "#Merging Rating & Meta data files\n",
    "garden=pd.merge(Patio_Lawn_and_Garden_rating,meta_data_garden,on='asin')\n",
    "tool=pd.merge(Tools_and_Home_Improvement_rating,meta_data_tools,on='asin')"
   ]
  },
  {
   "cell_type": "code",
   "execution_count": 66,
   "id": "6e8883d1",
   "metadata": {},
   "outputs": [],
   "source": [
    "tool.rename(columns={'brand  ':'brand','title ':'title'},inplace=True)   #renaming tool and home improv. columns for merging"
   ]
  },
  {
   "cell_type": "code",
   "execution_count": 67,
   "id": "17d349e1",
   "metadata": {},
   "outputs": [],
   "source": [
    "#joining rating and meta files of Patio-Lawn-Garden & Tools and Home Improvement\n",
    "Final=garden.append(tool)\n",
    "\n",
    "#converting merged dataframe to csv \n",
    "Final.to_csv('Final_merge.csv',index=False)"
   ]
  },
  {
   "cell_type": "code",
   "execution_count": 68,
   "id": "33144f8f",
   "metadata": {},
   "outputs": [
    {
     "data": {
      "text/plain": [
       "Index(['asin', 'reviewerID', 'overall', 'unixReviewTime', 'review_date',\n",
       "       'category', 'main_cat', 'brand', 'price', 'title', 'main_cat_rank',\n",
       "       'date'],\n",
       "      dtype='object')"
      ]
     },
     "execution_count": 68,
     "metadata": {},
     "output_type": "execute_result"
    }
   ],
   "source": [
    "Final.columns   #checking columns"
   ]
  },
  {
   "cell_type": "code",
   "execution_count": 274,
   "id": "b07097ca",
   "metadata": {},
   "outputs": [],
   "source": [
    "#merging tools home and  improvement & patio,lawn,garden file\n",
    "sentiment=Tools_and_Home_Improvement_5.append(Patio_Lawn_and_Garden_5)\n",
    "\n",
    "#making new column 'text' with reviewtext and summary\n",
    "sentiment['text']=sentiment['reviewText']+' '+sentiment['summary']\n",
    "\n",
    "sentiment.drop(columns=['reviewText','summary'],inplace=True)  #dropping reviewtext and summary\n",
    "sentiment['overall']=sentiment['overall'].astype(int)    #converting overall column to integer dtype\n",
    "\n",
    "sentiment.to_csv('sentiment_data.csv',index=False)       #converting merged dataframe to csv"
   ]
  },
  {
   "cell_type": "markdown",
   "id": "254f755b",
   "metadata": {},
   "source": [
    "### <u>Data Visualization</u>"
   ]
  },
  {
   "cell_type": "code",
   "execution_count": 175,
   "id": "24ed32c1",
   "metadata": {},
   "outputs": [
    {
     "data": {
      "image/png": "[encoded data removed]",
      "text/plain": [
       "<Figure size 1080x648 with 1 Axes>"
      ]
     },
     "metadata": {},
     "output_type": "display_data"
    }
   ],
   "source": [
    "import matplotlib.pyplot as plt\n",
    "import seaborn as sns\n",
    "plt.figure(figsize=(15,9),facecolor='beige')\n",
    "plt.title('Top overall rating.',fontsize=(20))\n",
    "sns.countplot(y=Patio_Lawn_and_Garden_5['overall'],ec='black',palette='cool',order = Patio_Lawn_and_Garden_5['overall'].value_counts().index);\n"
   ]
  },
  {
   "cell_type": "code",
   "execution_count": null,
   "id": "4b78862e",
   "metadata": {},
   "outputs": [],
   "source": [
    "import matplotlib.pyplot as plt\n",
    "import seaborn as sns\n",
    "plt.figure(figsize=(15,9),facecolor='beige')\n",
    "plt.title('Top overall rating.',fontsize=(20))\n",
    "sns.countplot(y=Patio_Lawn_and_Garden_5['asin'],ec='black',palette='cool',order = Patio_Lawn_and_Garden_5['asin'].value_counts().index);\n"
   ]
  },
  {
   "cell_type": "code",
   "execution_count": 2,
   "id": "f451a516",
   "metadata": {},
   "outputs": [],
   "source": [
    "import plotly.express as px\n",
    "import matplotlib.pyplot as plt\n",
    "from plotly.subplots import make_subplots\n",
    "import plotly.graph_objects as go"
   ]
  },
  {
   "cell_type": "code",
   "execution_count": null,
   "id": "81925edb",
   "metadata": {},
   "outputs": [],
   "source": [
    "c = Patio_Lawn_and_Garden_5['overall'].value_counts()\n",
    "d = Patio_Lawn_and_Garden_5['overall'].value_counts().index\n",
    "e = Patio_Lawn_and_Garden_5['verified'].value_counts()\n",
    "f = Patio_Lawn_and_Garden_5['verified'].value_counts().index\n",
    "\n",
    "fig = make_subplots(rows=1, cols=2, specs=[[{'type':'pie'}, {'type':'pie'}]])\n",
    "fig.add_trace(go.Pie(values=c,labels=d,name=\"Overall\"),1,1)\n",
    "fig.add_trace(go.Pie(values=e,labels=f,name=\"Verified\"),1,2)\n",
    "fig.update_traces(hole=.3, hoverinfo=\"label+percent+name\")\n",
    "fig.update_layout(uniformtext_minsize=16, uniformtext_mode='hide')\n",
    "fig.update_layout(\n",
    "    title_text=\"Donuts\",\n",
    "    # Add annotations in the center of the donut pies.\n",
    "    annotations=[dict(text='Overall', x=0.18, y=0.5, font_size=20,showarrow=False),\n",
    "                 dict(text='Verified', x=0.82, y=0.5, font_size=20, showarrow=False)])"
   ]
  },
  {
   "cell_type": "code",
   "execution_count": null,
   "id": "add15d7d",
   "metadata": {},
   "outputs": [],
   "source": []
  },
  {
   "cell_type": "code",
   "execution_count": null,
   "id": "e61707cb",
   "metadata": {},
   "outputs": [],
   "source": []
  },
  {
   "cell_type": "code",
   "execution_count": null,
   "id": "0eef7414",
   "metadata": {},
   "outputs": [],
   "source": []
  }
 ],
 "metadata": {
  "kernelspec": {
   "display_name": "Python 3 (ipykernel)",
   "language": "python",
   "name": "python3"
  },
  "language_info": {
   "codemirror_mode": {
    "name": "ipython",
    "version": 3
   },
   "file_extension": ".py",
   "mimetype": "text/x-python",
   "name": "python",
   "nbconvert_exporter": "python",
   "pygments_lexer": "ipython3",
   "version": "3.9.12"
  }
 },
 "nbformat": 4,
 "nbformat_minor": 5
}
